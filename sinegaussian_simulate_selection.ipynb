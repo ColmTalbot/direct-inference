{
 "cells": [
  {
   "cell_type": "code",
   "execution_count": 1,
   "metadata": {},
   "outputs": [],
   "source": [
    "import tomllib\n",
    "\n",
    "import dill\n",
    "import jax\n",
    "jax.config.update(\"jax_enable_x64\", True)\n",
    "\n",
    "%matplotlib inline"
   ]
  },
  {
   "cell_type": "code",
   "execution_count": 2,
   "metadata": {},
   "outputs": [],
   "source": [
    "from burst import BurstParameters, load_basis, simulate_population\n",
    "from utils import segment_times"
   ]
  },
  {
   "cell_type": "code",
   "execution_count": 3,
   "metadata": {},
   "outputs": [],
   "source": [
    "config = tomllib.load(open(\"sinegaussian_selection.toml\", \"rb\"))\n",
    "\n",
    "bounds = config[\"bounds\"]\n",
    "duration = config[\"duration\"]\n",
    "sample_rate = config[\"sample_rate\"]\n",
    "times = segment_times(duration, sample_rate)"
   ]
  },
  {
   "cell_type": "code",
   "execution_count": 4,
   "metadata": {},
   "outputs": [
    {
     "name": "stdout",
     "output_type": "stream",
     "text": [
      "{'amplitude': [110, 5], 'frequency': [5, 0.2], 'bandwidth': [0.5, 0.01], 'phase': [0, 3.141592653589793], 'delta_t': [0.0, 0.01]}\n"
     ]
    }
   ],
   "source": [
    "variables = bounds.keys()\n",
    "\n",
    "rng_key = jax.random.PRNGKey(10)\n",
    "\n",
    "print(bounds)"
   ]
  },
  {
   "cell_type": "code",
   "execution_count": 5,
   "metadata": {},
   "outputs": [
    {
     "name": "stdout",
     "output_type": "stream",
     "text": [
      "(2000, 20) (20, 1024)\n"
     ]
    }
   ],
   "source": [
    "basis, weights = load_basis(\"sinegaussian_svd_250502.pkl\", truncation=config[\"truncation\"])"
   ]
  },
  {
   "cell_type": "code",
   "execution_count": 6,
   "metadata": {},
   "outputs": [],
   "source": [
    "true_mean = 5\n",
    "all_divs = list()\n",
    "offset = config[\"configurations\"][\"offset\"]"
   ]
  },
  {
   "cell_type": "code",
   "execution_count": 7,
   "metadata": {},
   "outputs": [
    {
     "name": "stdout",
     "output_type": "stream",
     "text": [
      "2.955213642251156 0.08973178179879919\n",
      "0.29835672142929226\n",
      "0\n",
      "Writing data and parameters to data_0.3_8.pkl and params_0.3_8.pkl\n",
      "2.9528934760172962 0.09795205818273145\n",
      "0.401775807430262\n",
      "0\n",
      "Writing data and parameters to data_0.4_8.pkl and params_0.4_8.pkl\n",
      "2.9595129010574075 0.11926266413664297\n",
      "0.5933618876278189\n",
      "0\n",
      "Writing data and parameters to data_0.6_8.pkl and params_0.6_8.pkl\n",
      "2.9614582763092057 0.14510988906284902\n",
      "0.7875178262805171\n",
      "0\n",
      "Writing data and parameters to data_0.8_8.pkl and params_0.8_8.pkl\n",
      "2.9556957595073756 0.09259330783600461\n",
      "0.3493128626495368\n",
      "2000\n",
      "Writing data and parameters to data_0.35_0.pkl and params_0.35_0.pkl\n",
      "2.9535827011764058 0.10262752345693513\n",
      "0.4419552923563357\n",
      "2000\n",
      "Writing data and parameters to data_0.45_0.pkl and params_0.45_0.pkl\n",
      "2.9552922490334956 0.1264455129094698\n",
      "0.6532798180158002\n",
      "2000\n",
      "Writing data and parameters to data_0.65_0.pkl and params_0.65_0.pkl\n",
      "2.9701574462276894 0.15538138222416617\n",
      "0.8670507234654697\n",
      "2000\n",
      "Writing data and parameters to data_0.85_0.pkl and params_0.85_0.pkl\n"
     ]
    }
   ],
   "source": [
    "\n",
    "simulate_kwargs = dict(\n",
    "    basis=basis,\n",
    "    projection=weights,\n",
    "    bounds=bounds,\n",
    "    times=times,\n",
    "    duration=duration,\n",
    "    sample_rate=sample_rate,\n",
    "    time_align=True,\n",
    ")\n",
    "\n",
    "for (true_sigma, snr_threshold) in zip(\n",
    "    config[\"configurations\"][\"sigma\"], config[\"configurations\"][\"threshold\"]\n",
    "):\n",
    "    label = f\"{true_sigma}_{snr_threshold}\"\n",
    "\n",
    "    events, truths, keep, rng_key, filtered = simulate_population(\n",
    "        rng_key,\n",
    "        mean=true_mean,\n",
    "        sigma=true_sigma,\n",
    "        offset=offset,\n",
    "        threshold=snr_threshold,\n",
    "        n_events=config[\"simulate\"][\"n_events\"] * (1 + (snr_threshold > 1)),\n",
    "        **simulate_kwargs,\n",
    "    )\n",
    "    print(truths[\"frequency\"].std())\n",
    "    print(sum(keep))\n",
    "    events = events[keep]\n",
    "    filtered = filtered[keep]\n",
    "    truths = BurstParameters(**{k: truths[k][keep] for k in variables})\n",
    "\n",
    "    print(f\"Writing data and parameters to data_{label}.pkl and params_{label}.pkl\")\n",
    "    with open(f\"params_{label}.pkl\", \"wb\") as f:\n",
    "        dill.dump(truths, f)\n",
    "    with open(f\"data_{label}.pkl\", \"wb\") as f:\n",
    "        dill.dump(filtered, f)\n",
    "    with open(f\"events_{label}.pkl\", \"wb\") as f:\n",
    "        dill.dump(events, f)"
   ]
  },
  {
   "cell_type": "code",
   "execution_count": null,
   "metadata": {},
   "outputs": [],
   "source": []
  }
 ],
 "metadata": {
  "kernelspec": {
   "display_name": "direct-inference",
   "language": "python",
   "name": "python3"
  },
  "language_info": {
   "codemirror_mode": {
    "name": "ipython",
    "version": 3
   },
   "file_extension": ".py",
   "mimetype": "text/x-python",
   "name": "python",
   "nbconvert_exporter": "python",
   "pygments_lexer": "ipython3",
   "version": "3.11.10"
  }
 },
 "nbformat": 4,
 "nbformat_minor": 2
}
