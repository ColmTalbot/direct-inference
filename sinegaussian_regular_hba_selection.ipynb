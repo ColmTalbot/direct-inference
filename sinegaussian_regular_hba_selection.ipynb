{
 "cells": [
  {
   "cell_type": "code",
   "execution_count": 1,
   "metadata": {},
   "outputs": [],
   "source": [
    "import os\n",
    "\n",
    "import dill\n",
    "import jax\n",
    "jax.config.update(\"jax_enable_x64\", True)\n",
    "import jax.numpy as np\n",
    "import matplotlib.pyplot as plt\n",
    "from numpyro.infer import MCMC, NUTS\n",
    "from tqdm.auto import tqdm\n",
    "\n",
    "%matplotlib inline"
   ]
  },
  {
   "cell_type": "code",
   "execution_count": 2,
   "metadata": {},
   "outputs": [],
   "source": [
    "from burst import (\n",
    "    BurstParameters,\n",
    "    construct_numpyro_model,\n",
    "    load_basis,\n",
    "    simulate_population,\n",
    ")\n",
    "from utils import (\n",
    "    approximate_divergence,\n",
    "    segment_times,\n",
    ")"
   ]
  },
  {
   "cell_type": "code",
   "execution_count": 3,
   "metadata": {},
   "outputs": [],
   "source": [
    "bounds = dict(\n",
    "    amplitude=(10, 80),\n",
    "    frequency=(1, 9),\n",
    "    bandwidth=(0.3, 0.7),\n",
    "    phase=(0, np.pi),\n",
    "    delta_t=(-0.1, 0.1),\n",
    ")\n",
    "duration = 4\n",
    "sample_rate = 256\n",
    "times = segment_times(duration, sample_rate)\n",
    "\n",
    "numpyro_model = construct_numpyro_model(duration, sample_rate, bounds.copy())\n",
    "# del bounds[\"delta_t\"]"
   ]
  },
  {
   "cell_type": "code",
   "execution_count": 4,
   "metadata": {},
   "outputs": [],
   "source": [
    "variables = [\"amplitude\", \"frequency\", \"bandwidth\", \"phase\", \"delta_t\"]\n",
    "\n",
    "mcmc_kwargs = dict(\n",
    "    num_warmup=100,\n",
    "    num_samples=500,\n",
    "    num_chains=1,\n",
    "    jit_model_args=True,\n",
    "    progress_bar=False,\n",
    ")\n",
    "\n",
    "mcmc = MCMC(NUTS(numpyro_model), **mcmc_kwargs)\n",
    "\n",
    "rng_key = jax.random.PRNGKey(10)"
   ]
  },
  {
   "cell_type": "code",
   "execution_count": null,
   "metadata": {},
   "outputs": [],
   "source": [
    "basis, weights, projection = load_basis(\"sinegaussian_svd.pkl\", truncation=20)"
   ]
  },
  {
   "cell_type": "code",
   "execution_count": null,
   "metadata": {},
   "outputs": [],
   "source": [
    "true_mean = 5\n",
    "true_sigma = 0.1\n",
    "fpeaks = np.linspace(4.8, 5.2, 100)\n",
    "all_divs = list()\n",
    "offset = 0.0"
   ]
  },
  {
   "cell_type": "code",
   "execution_count": 5,
   "metadata": {},
   "outputs": [
    {
     "name": "stdout",
     "output_type": "stream",
     "text": [
      "Writing data and parameters to data_0.3_8.pkl and params_0.3_8.pkl\n"
     ]
    },
    {
     "data": {
      "application/vnd.jupyter.widget-view+json": {
       "model_id": "66b148ac9b68472a85103025f4c02861",
       "version_major": 2,
       "version_minor": 0
      },
      "text/plain": [
       "  0%|          | 0/2559 [00:00<?, ?it/s]"
      ]
     },
     "metadata": {},
     "output_type": "display_data"
    }
   ],
   "source": [
    "\n",
    "simulate_kwargs = dict(\n",
    "    basis=basis,\n",
    "    project=projection,\n",
    "    bounds=bounds,\n",
    "    times=times,\n",
    "    duration=duration,\n",
    "    sample_rate=sample_rate,\n",
    "    time_align=True,\n",
    ")\n",
    "\n",
    "polyfits = dict()\n",
    "\n",
    "for true_sigma in [0.3, 0.4, 0.6, 0.8, 0.35, 0.45, 0.65, 0.85]:\n",
    "    if true_sigma * 10 % 1 == 0:\n",
    "        snr_threshold = 8\n",
    "        pdets = np.array([\n",
    "            np.mean(simulate_population(\n",
    "                rng_key,\n",
    "                mean=true_mean,\n",
    "                sigma=true_sigma,\n",
    "                offset=offset,\n",
    "                threshold=snr_threshold,\n",
    "                n_events=20000,\n",
    "                **simulate_kwargs,\n",
    "            )[2])\n",
    "            for true_mean in fpeaks\n",
    "        ])\n",
    "        pfit = np.polyfit(fpeaks, np.log(pdets), 4)\n",
    "        polyfits[true_sigma] = pfit\n",
    "    else:\n",
    "        snr_threshold = 0\n",
    "\n",
    "    label = f\"{true_sigma}_{snr_threshold}\"\n",
    "\n",
    "    if os.path.exists(f\"data_{label}.pkl\") and False:\n",
    "        with open(f\"data_{label}.pkl\", \"rb\") as f:\n",
    "            events = dill.load(f)\n",
    "        with open(f\"params_{label}.pkl\", \"rb\") as f:\n",
    "            truths = dill.load(f)\n",
    "    else:\n",
    "        events, truths, keep, rng_key, filtered = simulate_population(\n",
    "            rng_key,\n",
    "            mean=true_mean,\n",
    "            sigma=true_sigma,\n",
    "            offset=offset,\n",
    "            threshold=snr_threshold,\n",
    "            n_events=3000 + 2000 * (snr_threshold // 8),\n",
    "            **simulate_kwargs,\n",
    "        )\n",
    "        events = events[keep]\n",
    "        filtered = filtered[keep]\n",
    "        truths = BurstParameters(**{k: truths[k][keep] for k in variables})\n",
    "\n",
    "        print(f\"Writing data and parameters to data_{label}.pkl and params_{label}.pkl\")\n",
    "        with open(f\"params_{label}.pkl\", \"wb\") as f:\n",
    "            dill.dump(truths, f)\n",
    "        with open(f\"data_{label}.pkl\", \"wb\") as f:\n",
    "            # dill.dump(events, f)\n",
    "            dill.dump(filtered, f)\n",
    "\n",
    "    fpeak_posteriors = list()\n",
    "    for event, truth in zip(tqdm(events), truths):\n",
    "        rng_key, subkey = jax.random.split(rng_key)\n",
    "        mcmc.run(subkey, event.squeeze())\n",
    "        fpeak_posteriors.append(mcmc.get_samples()[\"frequency\"])\n",
    "\n",
    "    fpeak_posteriors = np.array(fpeak_posteriors)\n",
    "    np.save(f\"fpeak_posteriors_{label}.npy\", fpeak_posteriors)\n",
    "    all_divs.append(np.array([\n",
    "        approximate_divergence(fpeak_posteriors.T, mean_frequency, sigma_frequency=true_sigma)\n",
    "        for mean_frequency in fpeaks\n",
    "    ]))\n",
    "\n",
    "    plt.plot(fpeaks, all_divs[-1] - min(all_divs[-1]))\n",
    "plt.show()\n",
    "plt.close()\n",
    "\n",
    "with open(\"polyfits.pkl\", \"wb\") as f:\n",
    "    dill.dump(polyfits, f)"
   ]
  },
  {
   "cell_type": "code",
   "execution_count": null,
   "metadata": {},
   "outputs": [],
   "source": []
  }
 ],
 "metadata": {
  "kernelspec": {
   "display_name": "direct-inference",
   "language": "python",
   "name": "python3"
  },
  "language_info": {
   "codemirror_mode": {
    "name": "ipython",
    "version": 3
   },
   "file_extension": ".py",
   "mimetype": "text/x-python",
   "name": "python",
   "nbconvert_exporter": "python",
   "pygments_lexer": "ipython3",
   "version": "3.11.9"
  }
 },
 "nbformat": 4,
 "nbformat_minor": 2
}
